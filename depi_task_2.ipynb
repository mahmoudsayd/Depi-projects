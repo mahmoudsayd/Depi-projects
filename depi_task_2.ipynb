{
  "nbformat": 4,
  "nbformat_minor": 0,
  "metadata": {
    "colab": {
      "provenance": []
    },
    "kernelspec": {
      "name": "python3",
      "display_name": "Python 3"
    },
    "language_info": {
      "name": "python"
    }
  },
  "cells": [
    {
      "cell_type": "markdown",
      "source": [
        "# Managing a Simple Inventory System"
      ],
      "metadata": {
        "id": "ztOSGe78z4NV"
      }
    },
    {
      "cell_type": "code",
      "execution_count": null,
      "metadata": {
        "id": "jmLTQpK7zvwO",
        "outputId": "f7015ee1-b514-426d-db6d-edd5b22525bd",
        "colab": {
          "base_uri": "https://localhost:8080/"
        }
      },
      "outputs": [
        {
          "output_type": "stream",
          "name": "stdout",
          "text": [
            "5 apple added to inventory\n",
            "3 apple sold\n",
            "5 apple sold\n"
          ]
        }
      ],
      "source": [
        "class product:\n",
        "  def __init__(self,name,price, quantaty):\n",
        "    self.name = name\n",
        "    self.price = price\n",
        "    self.quantaty = quantaty\n",
        "  def re_stock(self,amount):\n",
        "    self.quantaty += amount\n",
        "    print(f'{amount} {self.name} added to inventory')\n",
        "  def sell(self,amount):\n",
        "    if amount <= self.quantaty:\n",
        "      self.quantaty -= amount\n",
        "      print(f'{amount} {self.name} sold')\n",
        "    else:\n",
        "      print(f'Not enough {self.name} in inventory')\n",
        "product1 = product('apple',1,10)\n",
        "product1.re_stock(5)\n",
        "product1.sell(3)\n",
        "product1.sell(5)"
      ]
    },
    {
      "cell_type": "markdown",
      "source": [
        "# Simple Calculator Class"
      ],
      "metadata": {
        "id": "e3oNmsI2z8kj"
      }
    },
    {
      "cell_type": "code",
      "source": [
        "class calculator:\n",
        "  def __init__(self,num1,num2):\n",
        "    self.num1 = num1\n",
        "    self.num2 = num2\n",
        "\n",
        "  def add(self):\n",
        "    return self.num1 + self.num2\n",
        "  def subtract(self):\n",
        "    return self.num1 - self.num2\n",
        "  def multiply(self):\n",
        "    return self.num1 * self.num2\n",
        "  def divide(self):\n",
        "    return self.num1 / self.num2\n",
        "num1, num2 = 1 , 2\n",
        "calc = calculator(num1,num2)\n",
        "print(calc.add())\n",
        "print(calc.subtract())\n",
        "print(calc.multiply())\n",
        "print(calc.divide())"
      ],
      "metadata": {
        "id": "V018NfcqLVTJ",
        "outputId": "8c6cc231-58df-49ff-c526-074fbd098ae5",
        "colab": {
          "base_uri": "https://localhost:8080/"
        }
      },
      "execution_count": null,
      "outputs": [
        {
          "output_type": "stream",
          "name": "stdout",
          "text": [
            "3\n",
            "-1\n",
            "2\n",
            "0.5\n"
          ]
        }
      ]
    },
    {
      "cell_type": "markdown",
      "source": [
        "# Creating a Student Management System\n"
      ],
      "metadata": {
        "id": "KLlB1ndI0E9z"
      }
    },
    {
      "cell_type": "code",
      "source": [
        "class student:\n",
        "  def __init__(self, name , age , GBA):\n",
        "    self.name = name\n",
        "    self.age = age\n",
        "    self.GBA = GBA\n",
        "  def get_name(self):\n",
        "    return self.name\n",
        "  def get_age(self):\n",
        "    return self.age\n",
        "  def get_grade(self):\n",
        "    return self.GBA\n",
        "  def dispay_info(self):\n",
        "    print(f'Name: {self.name} Age: {self.age} GBA: {self.GBA}')\n",
        "student1 = student('Ahmed',24,3.3)\n",
        "print(student1.get_name())\n",
        "print(student1.get_age())\n",
        "print(student1.get_grade())\n",
        "print(student1.dispay_info())"
      ],
      "metadata": {
        "id": "bHVBM10b0Gzc",
        "outputId": "ee7b61d5-4a86-48cd-9e93-0d2084541bd4",
        "colab": {
          "base_uri": "https://localhost:8080/"
        }
      },
      "execution_count": null,
      "outputs": [
        {
          "output_type": "stream",
          "name": "stdout",
          "text": [
            "Ahmed\n",
            "24\n",
            "3.3\n",
            "Name: Ahmed Age: 24 GBA: 3.3\n",
            "None\n"
          ]
        }
      ]
    },
    {
      "cell_type": "markdown",
      "source": [
        "# Modeling a Bank Account\n"
      ],
      "metadata": {
        "id": "Gp48XfCR0I_c"
      }
    },
    {
      "cell_type": "code",
      "source": [
        "class bank_account:\n",
        "  def __init__(self,username, balance):\n",
        "    self.balance = balance\n",
        "    self.username = username\n",
        "  def add_to_balance (self,amount):\n",
        "    self.amount = amount\n",
        "    self.balance +=  self.amount\n",
        "    print(f'{self.username} you added {self.amount} to your balance and your balnace now is {self.balance}')\n",
        "  def withdraw_from_balance (self,amount):\n",
        "    self.balance -= amount\n",
        "    if amount <= self.balance:\n",
        "      self.balance -= amount\n",
        "      print(f'{amount} withdraw from balance and your balance now is {self.balance}')\n",
        "    else:\n",
        "      print(f'Not enough balance')\n",
        "user1 = bank_account('Ahmed',1000)\n",
        "user1.add_to_balance(500)\n",
        "user1.withdraw_from_balance(200)\n",
        "user1.withdraw_from_balance(2000)"
      ],
      "metadata": {
        "id": "vw1q3ooy0LO8",
        "outputId": "9f746131-27e0-4cfd-c2fa-af70c055ecfd",
        "colab": {
          "base_uri": "https://localhost:8080/"
        }
      },
      "execution_count": null,
      "outputs": [
        {
          "output_type": "stream",
          "name": "stdout",
          "text": [
            "Ahmed you added 500 to your balance and your balnace now is 1500\n",
            "200 withdraw from balance and your balance now is 1100\n",
            "Not enough balance\n"
          ]
        }
      ]
    },
    {
      "cell_type": "markdown",
      "source": [
        "# Modeling a Simple Library System\n"
      ],
      "metadata": {
        "id": "-4--ZqEe0OQ8"
      }
    },
    {
      "source": [
        "class book:\n",
        "  def __init__(self,author,books,date):\n",
        "    self.books = books\n",
        "    self.author = author\n",
        "    self.date = date\n",
        "  def display(self):\n",
        "    print(f'the book title is {self.books}, and the author is {self.author} the date of writing {self.date}')\n",
        "class library:\n",
        "  def __init__(self,books=None): # Added default value for books\n",
        "    self.books = books if books is not None else [] # Initialize with books if provided, else empty list\n",
        "\n",
        "  # Methods are now defined at the class level, not inside __init__\n",
        "  def add_book (self,book):\n",
        "    self.books.append(book)\n",
        "    print(f'{book} added to library')\n",
        "  def remove_book (self,book):\n",
        "    self.books.remove(book)\n",
        "    print(f'{book} removed from library')\n",
        "  def search_book (self,book):\n",
        "    if book in self.books:\n",
        "      print(f'{book} found in library')\n",
        "    else:\n",
        "      print(f'{book} not found in library')\n",
        "  def stouck(self):\n",
        "    print(f'the library has {len(self.books)} books')\n",
        "    for book in self.books:\n",
        "      book.display()\n",
        "book1 = book('Ahmed','tree',2024)\n",
        "book2 = book('mahmoud','computer',2020)\n",
        "book3 = book('mazen','coding',2019)\n",
        "\n",
        "# Create an instance of the library class\n",
        "my_library = library()\n",
        "\n",
        "# Now call methods on the instance\n",
        "my_library.add_book(book1)\n",
        "my_library.add_book(book2)\n",
        "my_library.add_book(book3)\n",
        "my_library.stouck()\n",
        "my_library.remove_book(book1)\n",
        "my_library.stouck()"
      ],
      "cell_type": "code",
      "metadata": {
        "colab": {
          "base_uri": "https://localhost:8080/"
        },
        "id": "jU0IB9RtJ1F2",
        "outputId": "8a0c6a30-3732-4b24-9fe4-f1feb30ab504"
      },
      "execution_count": null,
      "outputs": [
        {
          "output_type": "stream",
          "name": "stdout",
          "text": [
            "<__main__.book object at 0x7e430399cb80> added to library\n",
            "<__main__.book object at 0x7e430399dcf0> added to library\n",
            "<__main__.book object at 0x7e43036f5690> added to library\n",
            "the library has 3 books\n",
            "the book title is tree, and the author is Ahmed the date of writing 2024\n",
            "the book title is computer, and the author is mahmoud the date of writing 2020\n",
            "the book title is coding, and the author is mazen the date of writing 2019\n",
            "<__main__.book object at 0x7e430399cb80> removed from library\n",
            "the library has 2 books\n",
            "the book title is computer, and the author is mahmoud the date of writing 2020\n",
            "the book title is coding, and the author is mazen the date of writing 2019\n"
          ]
        }
      ]
    },
    {
      "cell_type": "markdown",
      "source": [
        "# Simple Voting System"
      ],
      "metadata": {
        "id": "eehFyGAs0RY8"
      }
    },
    {
      "cell_type": "code",
      "source": [
        "class voting_system:\n",
        "  def __init__(self,candidates):\n",
        "    self.candidates = candidates\n",
        "    self.votes = {candidate: 0 for candidate in candidates}\n",
        "  def vote(self,candidate):\n",
        "    if candidate in self.candidates:\n",
        "      self.votes[candidate] += 1\n",
        "      print(f'you voted for {candidate}')\n",
        "    else:\n",
        "      print(f'{candidate} is not a candidate')\n",
        "  def get_results(self):\n",
        "    print('Voting Results:')\n",
        "    for candidate, votes in self.votes.items():\n",
        "      print(f'{candidate}: {votes} votes')\n",
        "condidates = ['Ahmed','Mahmoud','Mazen']\n",
        "voting = voting_system(condidates)\n",
        "voting.vote('Mahmoud')\n",
        "voting.vote('Ahmed')\n",
        "voting.vote('Mahmoud')\n",
        "voting.vote('Mahmoud')\n",
        "voting.vote('Mazen')\n",
        "voting.get_results()\n",
        "\n"
      ],
      "metadata": {
        "id": "SWD1UiMl0Syj",
        "colab": {
          "base_uri": "https://localhost:8080/"
        },
        "outputId": "5f59b500-cf64-4272-fb1d-a850aaa3a5a8"
      },
      "execution_count": null,
      "outputs": [
        {
          "output_type": "stream",
          "name": "stdout",
          "text": [
            "you voted for Mahmoud\n",
            "you voted for Ahmed\n",
            "you voted for Mahmoud\n",
            "you voted for Mahmoud\n",
            "you voted for Mazen\n",
            "Voting Results:\n",
            "Ahmed: 1 votes\n",
            "Mahmoud: 3 votes\n",
            "Mazen: 1 votes\n"
          ]
        }
      ]
    },
    {
      "cell_type": "markdown",
      "source": [
        "# Simple Temperature Converter"
      ],
      "metadata": {
        "id": "Vnb0BYfc0VBM"
      }
    },
    {
      "cell_type": "code",
      "source": [
        "class temperature_converter:\n",
        "  def __init__(self,temp):\n",
        "    self.temp = temp\n",
        "  def convert_to_celsius(self):\n",
        "    return (self.temp - 32) * 5/9\n",
        "  def convert_to_fahrenheit(self):\n",
        "    return (self.temp * 9/5) + 32\n",
        "temp = temperature_converter(100)\n",
        "print(temp.convert_to_celsius())\n",
        "print(temp.convert_to_fahrenheit())"
      ],
      "metadata": {
        "id": "KjB3N91N0V1r",
        "outputId": "11e8fa0a-06c7-4555-c739-b07095e446e8",
        "colab": {
          "base_uri": "https://localhost:8080/"
        }
      },
      "execution_count": null,
      "outputs": [
        {
          "output_type": "stream",
          "name": "stdout",
          "text": [
            "37.77777777777778\n",
            "212.0\n"
          ]
        }
      ]
    },
    {
      "cell_type": "markdown",
      "source": [
        "# Modeling a Car Rental System\n"
      ],
      "metadata": {
        "id": "MRua6w7D0X4E"
      }
    },
    {
      "source": [
        "class car :\n",
        "  def __init__(self,model,year):\n",
        "    self.model = model\n",
        "    self.year = year\n",
        "    self.available = True  # Initialize available to True\n",
        "  def rent(self):\n",
        "    if self.available:\n",
        "      self.available = False\n",
        "      print(f'you rent {self.model} {self.year}')\n",
        "  def return_car(self):\n",
        "      if not self.available:\n",
        "        self.available = True\n",
        "        print(f'you return {self.model} {self.year}')\n",
        "      else:\n",
        "        print(f'{self.model} {self.year} is already available')\n",
        "car1 = car('Toyota',2020)\n",
        "car1.rent()\n",
        "car1.return_car()\n",
        "car1.rent()\n",
        "car1.rent()"
      ],
      "cell_type": "code",
      "metadata": {
        "colab": {
          "base_uri": "https://localhost:8080/"
        },
        "id": "Y3-jim-oMRY3",
        "outputId": "54d7cdc8-58c2-4e5e-bed1-3f60fe7d6725"
      },
      "execution_count": null,
      "outputs": [
        {
          "output_type": "stream",
          "name": "stdout",
          "text": [
            "you rent Toyota 2020\n",
            "you return Toyota 2020\n",
            "you rent Toyota 2020\n"
          ]
        }
      ]
    }
  ]
}