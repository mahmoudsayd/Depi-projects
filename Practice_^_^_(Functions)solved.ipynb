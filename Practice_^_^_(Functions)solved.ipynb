{
  "cells": [
    {
      "cell_type": "markdown",
      "metadata": {
        "id": "DyrYzcgjHc34"
      },
      "source": [
        "# Calculating Average of Numbers Using Functions"
      ]
    },
    {
      "cell_type": "code",
      "execution_count": null,
      "metadata": {
        "colab": {
          "base_uri": "https://localhost:8080/"
        },
        "id": "ua93hR5uHc35",
        "outputId": "0fea983a-315b-4d02-fac9-ab630e1e620a"
      },
      "outputs": [
        {
          "output_type": "execute_result",
          "data": {
            "text/plain": [
              "3.0"
            ]
          },
          "metadata": {},
          "execution_count": 17
        }
      ],
      "source": [
        "def calculate_average(numbers):\n",
        "    average = sum(numbers) / len(numbers)\n",
        "    return average\n",
        "list1 = [1, 2, 3, 4, 5]\n",
        "average = calculate_average(list1)\n",
        "average # 15/5"
      ]
    },
    {
      "cell_type": "markdown",
      "metadata": {
        "id": "uGXVVFS_Hc35"
      },
      "source": [
        "# Finding the Longest Word in a List"
      ]
    },
    {
      "cell_type": "code",
      "source": [
        "def find_longest_word(words):\n",
        "    longest_word = \"\"\n",
        "    for word in words:\n",
        "        if len(word) > len(longest_word):\n",
        "            longest_word = word\n",
        "    return longest_word\n",
        "list_of_words = [\"apple\", \"yaloow_banana\", \"cherry\", \"date\"]\n",
        "longest_word = find_longest_word(list_of_words)\n",
        "longest_word"
      ],
      "metadata": {
        "colab": {
          "base_uri": "https://localhost:8080/",
          "height": 35
        },
        "id": "uR2PnSdBNaTz",
        "outputId": "d82fb71c-a993-4191-90c8-c34eba948fe2"
      },
      "execution_count": null,
      "outputs": [
        {
          "output_type": "execute_result",
          "data": {
            "text/plain": [
              "'yaloow_banana'"
            ],
            "application/vnd.google.colaboratory.intrinsic+json": {
              "type": "string"
            }
          },
          "metadata": {},
          "execution_count": 19
        }
      ]
    },
    {
      "cell_type": "markdown",
      "metadata": {
        "id": "K2F5FxgsHc35"
      },
      "source": [
        "# Checking if a Number is Prime"
      ]
    },
    {
      "cell_type": "code",
      "execution_count": null,
      "metadata": {
        "colab": {
          "base_uri": "https://localhost:8080/"
        },
        "id": "pZBQ9Kn9Hc35",
        "outputId": "780311dc-098a-4b69-eeca-935863bb5969"
      },
      "outputs": [
        {
          "output_type": "execute_result",
          "data": {
            "text/plain": [
              "True"
            ]
          },
          "metadata": {},
          "execution_count": 6
        }
      ],
      "source": [
        "def is_prime(number):\n",
        "    if number < 2:\n",
        "        return False\n",
        "    for i in range(2, int(number ** 0.5) + 1):\n",
        "        if number % i == 0:\n",
        "            return False\n",
        "    return True\n",
        "number = 17\n",
        "is_prime(number)"
      ]
    },
    {
      "cell_type": "markdown",
      "metadata": {
        "id": "LcvU1AXPHc35"
      },
      "source": [
        "# Converting Temperature Units"
      ]
    },
    {
      "cell_type": "code",
      "execution_count": null,
      "metadata": {
        "colab": {
          "base_uri": "https://localhost:8080/"
        },
        "id": "Uksq_GQhHc35",
        "outputId": "d7c823a1-b5e1-42d2-eb72-37fb7db04cfa"
      },
      "outputs": [
        {
          "output_type": "stream",
          "name": "stdout",
          "text": [
            "104.0\n",
            "4.444444444444445\n"
          ]
        }
      ],
      "source": [
        "def convert_to_fahrenheit(temperature):\n",
        "        fahrenheit = (temperature * 9/5) + 32\n",
        "        return fahrenheit\n",
        "def convert_to_celsius(temperature):\n",
        "        celsius = (temperature - 32) * 5/9\n",
        "        return celsius\n",
        "\n",
        "temperature1 = 40\n",
        "temperature_fahrenheit = convert_to_fahrenheit(temperature1)\n",
        "print(temperature_fahrenheit)\n",
        "temperature_celsius = convert_to_celsius(temperature1)\n",
        "print(temperature_celsius)"
      ]
    },
    {
      "cell_type": "markdown",
      "source": [
        "# Generating a List of Squares Using List Comprehension and Functions"
      ],
      "metadata": {
        "id": "p8BPFoUtOxkl"
      }
    },
    {
      "cell_type": "code",
      "source": [
        "def generate_squares(n):\n",
        "    squares = [x**2 for x in n]\n",
        "    return squares\n",
        "number = [2,4,6,8]\n",
        "squares = generate_squares(number)\n",
        "squares"
      ],
      "metadata": {
        "id": "vEYL0JayN-2L",
        "colab": {
          "base_uri": "https://localhost:8080/"
        },
        "outputId": "54d2c2dd-2ae4-49b6-bba7-b29e1624f0da"
      },
      "execution_count": 20,
      "outputs": [
        {
          "output_type": "execute_result",
          "data": {
            "text/plain": [
              "[4, 16, 36, 64]"
            ]
          },
          "metadata": {},
          "execution_count": 20
        }
      ]
    },
    {
      "cell_type": "markdown",
      "metadata": {
        "id": "aFnpdEJ3Hc36"
      },
      "source": [
        "# Converting a List of Strings to Uppercase"
      ]
    },
    {
      "cell_type": "code",
      "execution_count": null,
      "metadata": {
        "colab": {
          "base_uri": "https://localhost:8080/"
        },
        "id": "Jbs0hJoeHc36",
        "outputId": "0cbed043-a2d3-446c-8c26-1d63104e6174"
      },
      "outputs": [
        {
          "output_type": "execute_result",
          "data": {
            "text/plain": [
              "['APPLE', 'BANANA', 'CHERRY']"
            ]
          },
          "metadata": {},
          "execution_count": 10
        }
      ],
      "source": [
        "def convert_to_uppercase(strings):\n",
        "    uppercase_strings = [string.upper() for string in strings]\n",
        "    return uppercase_strings\n",
        "list_of_strings = [\"apple\", \"banana\", \"cherry\"]\n",
        "uppercase_strings = convert_to_uppercase(list_of_strings)\n",
        "uppercase_strings"
      ]
    },
    {
      "cell_type": "markdown",
      "metadata": {
        "id": "SlXhS822Hc36"
      },
      "source": [
        "# Calculating the Total Price Including Tax\n"
      ]
    },
    {
      "cell_type": "code",
      "execution_count": null,
      "metadata": {
        "colab": {
          "base_uri": "https://localhost:8080/"
        },
        "id": "BEaEOUh7Hc36",
        "outputId": "0af86dde-665d-480e-d1f1-b4fa4fb01cda"
      },
      "outputs": [
        {
          "output_type": "execute_result",
          "data": {
            "text/plain": [
              "110.0"
            ]
          },
          "metadata": {},
          "execution_count": 12
        }
      ],
      "source": [
        "def calculate_total_price(price, tax_rate):\n",
        "    total_price = price + (price * tax_rate)\n",
        "    return total_price\n",
        "price = 100\n",
        "tax_rate = 0.1\n",
        "total_price = calculate_total_price(price, tax_rate)\n",
        "total_price"
      ]
    },
    {
      "cell_type": "markdown",
      "metadata": {
        "id": "WwIqDW5AHc36"
      },
      "source": [
        "# Finding the Minimum and Maximum Values in a List"
      ]
    },
    {
      "cell_type": "code",
      "execution_count": null,
      "metadata": {
        "colab": {
          "base_uri": "https://localhost:8080/"
        },
        "id": "1SxIUFP5Hc36",
        "outputId": "2ac10725-177d-44ce-a23f-66e4c5ef720e"
      },
      "outputs": [
        {
          "output_type": "execute_result",
          "data": {
            "text/plain": [
              "(1, 9)"
            ]
          },
          "metadata": {},
          "execution_count": 13
        }
      ],
      "source": [
        "def find_min_max(numbers):\n",
        "    min_value = min(numbers)\n",
        "    max_value = max(numbers)\n",
        "    return min_value, max_value\n",
        "list_of_numbers = [5, 2, 9, 1, 7]\n",
        "min_value, max_value = find_min_max(list_of_numbers)\n",
        "min_value, max_value"
      ]
    },
    {
      "cell_type": "markdown",
      "metadata": {
        "id": "BTGDI1M1Hc37"
      },
      "source": [
        "# Checking if a String is a Valid Email Address"
      ]
    },
    {
      "cell_type": "code",
      "execution_count": null,
      "metadata": {
        "colab": {
          "base_uri": "https://localhost:8080/"
        },
        "id": "PQ8dzUclHc37",
        "outputId": "cda8b6e9-b517-4864-f300-b349a6b06bd3"
      },
      "outputs": [
        {
          "output_type": "stream",
          "name": "stdout",
          "text": [
            "True\n",
            "False\n"
          ]
        }
      ],
      "source": [
        "def is_valid_email(email):\n",
        "    if \"@\" in email and \".\" in email:\n",
        "        return True\n",
        "    else:\n",
        "        return False\n",
        "mail1 = 'mahmoudsayd214@gmail.com'\n",
        "mail2 = 'mahmoudsaydgmail'\n",
        "print(is_valid_email(mail1))\n",
        "print(is_valid_email(mail2))"
      ]
    },
    {
      "cell_type": "markdown",
      "metadata": {
        "id": "1fMR3ALrHc37"
      },
      "source": [
        "# Counting the Frequency of Each Character in a String"
      ]
    },
    {
      "cell_type": "code",
      "execution_count": null,
      "metadata": {
        "colab": {
          "base_uri": "https://localhost:8080/"
        },
        "id": "ezTd27OrHc37",
        "outputId": "5b625fd5-9837-4030-b84c-da348d98515e"
      },
      "outputs": [
        {
          "output_type": "execute_result",
          "data": {
            "text/plain": [
              "{'h': 1, 'e': 1, 'l': 2, 'o': 1}"
            ]
          },
          "metadata": {},
          "execution_count": 16
        }
      ],
      "source": [
        "def count_character_frequency(string):\n",
        "    frequency = {}\n",
        "    for char in string:\n",
        "        if char in frequency:\n",
        "            frequency[char] += 1\n",
        "        else:\n",
        "            frequency[char] = 1\n",
        "    return frequency\n",
        "string = \"hello\"\n",
        "frequency = count_character_frequency(string)\n",
        "frequency"
      ]
    }
  ],
  "metadata": {
    "kernelspec": {
      "display_name": "base",
      "language": "python",
      "name": "python3"
    },
    "language_info": {
      "codemirror_mode": {
        "name": "ipython",
        "version": 3
      },
      "file_extension": ".py",
      "mimetype": "text/x-python",
      "name": "python",
      "nbconvert_exporter": "python",
      "pygments_lexer": "ipython3",
      "version": "3.11.7"
    },
    "colab": {
      "provenance": []
    }
  },
  "nbformat": 4,
  "nbformat_minor": 0
}